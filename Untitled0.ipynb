{
  "nbformat": 4,
  "nbformat_minor": 0,
  "metadata": {
    "colab": {
      "provenance": [],
      "authorship_tag": "ABX9TyO3hNiSGQnhG3xmc+KBCUvY",
      "include_colab_link": true
    },
    "kernelspec": {
      "name": "python3",
      "display_name": "Python 3"
    },
    "language_info": {
      "name": "python"
    }
  },
  "cells": [
    {
      "cell_type": "markdown",
      "metadata": {
        "id": "view-in-github",
        "colab_type": "text"
      },
      "source": [
        "<a href=\"https://colab.research.google.com/github/Revanth-0346532165/AIML_2303A52421/blob/main/Untitled0.ipynb\" target=\"_parent\"><img src=\"https://colab.research.google.com/assets/colab-badge.svg\" alt=\"Open In Colab\"/></a>"
      ]
    },
    {
      "cell_type": "code",
      "execution_count": null,
      "metadata": {
        "id": "2lbUAUGqkUh4"
      },
      "outputs": [],
      "source": []
    },
    {
      "cell_type": "markdown",
      "source": [
        "Part 01: Lab Task is implement the following data structures using Numpy and Pandas.**\n"
      ],
      "metadata": {
        "id": "dOxHdk5Gk3eC"
      }
    },
    {
      "cell_type": "markdown",
      "source": [
        "Lists\n",
        "Arrays\n",
        "Identify their type using type()\n",
        "Perform mathematical operations on these datasets created - multiplication, division, poweroff\n",
        "Combine text with Numpy fuction to generate a textual output - ”Addition of Two: array1 +array 2\n",
        "Implement np.sin(), log(), log2(), np.exp())"
      ],
      "metadata": {
        "id": "gonsTqyFlAgx"
      }
    },
    {
      "cell_type": "code",
      "source": [
        "import numpy as np\n",
        "l1=[1,2,3]\n",
        "array1 = np.array(l1)\n",
        "array1"
      ],
      "metadata": {
        "colab": {
          "base_uri": "https://localhost:8080/"
        },
        "id": "kAp-G_IAlItb",
        "outputId": "3cdf13e8-72a2-4c7d-d3b8-e9de9c5eef39"
      },
      "execution_count": 1,
      "outputs": [
        {
          "output_type": "execute_result",
          "data": {
            "text/plain": [
              "array([1, 2, 3])"
            ]
          },
          "metadata": {},
          "execution_count": 1
        }
      ]
    },
    {
      "cell_type": "code",
      "source": [
        "type(l1)"
      ],
      "metadata": {
        "colab": {
          "base_uri": "https://localhost:8080/"
        },
        "id": "-FUFdd7dlYcw",
        "outputId": "3408f99f-7e41-46e2-ecca-88614ecc4b9e"
      },
      "execution_count": 2,
      "outputs": [
        {
          "output_type": "execute_result",
          "data": {
            "text/plain": [
              "list"
            ]
          },
          "metadata": {},
          "execution_count": 2
        }
      ]
    },
    {
      "cell_type": "code",
      "source": [
        "type(array1)\n"
      ],
      "metadata": {
        "colab": {
          "base_uri": "https://localhost:8080/"
        },
        "id": "60wWxeKdlfEN",
        "outputId": "b6dfee34-5108-4076-cf71-f359be6b2771"
      },
      "execution_count": 4,
      "outputs": [
        {
          "output_type": "execute_result",
          "data": {
            "text/plain": [
              "numpy.ndarray"
            ]
          },
          "metadata": {},
          "execution_count": 4
        }
      ]
    },
    {
      "cell_type": "markdown",
      "source": [
        "Perform Mathematical Operations on these datasets - Multiplication, Division, Poweroff"
      ],
      "metadata": {
        "id": "QWqywsGxmAeN"
      }
    },
    {
      "cell_type": "code",
      "source": [
        "array1 = [1, 2, 3]\n",
        "array2 = [4, 5, 6]\n",
        "print(\"array2 multiplied by array1:\", [a * b for a, b in zip(array1, array2)])\n",
        "print(\"array2 divided by array1:\", [a / b for a, b in zip(array2, array1)])\n",
        "print(\"array2 raised to the power of array1:\", [a ** b for a, b in zip(array2, array1)])\n"
      ],
      "metadata": {
        "colab": {
          "base_uri": "https://localhost:8080/"
        },
        "id": "SGwK1e_umCng",
        "outputId": "340fddb7-5ce6-4eb0-e9dc-9c5a62522d91"
      },
      "execution_count": 5,
      "outputs": [
        {
          "output_type": "stream",
          "name": "stdout",
          "text": [
            "array2 multiplied by array1: [4, 10, 18]\n",
            "array2 divided by array1: [4.0, 2.5, 2.0]\n",
            "array2 raised to the power of array1: [4, 25, 216]\n"
          ]
        }
      ]
    },
    {
      "cell_type": "code",
      "source": [
        "import numpy as np\n",
        "\n",
        "array1 = np.array([1, 2, 3])\n",
        "array2 = np.array([4, 5, 6])\n",
        "print(\"array2 multiplied by array1:\", array1 * array2)\n",
        "print(\"array2 divided by array1:\", array2 / array1)\n",
        "print(\"array2 raised to the power of array1:\", array2 ** array1)\n",
        "print(\"Sine:\", np.sin(array1))\n",
        "print(\"Natural logarithm:\", np.log(array1))\n",
        "print(\"Base-10 logarithm:\", np.log10(array1))\n",
        "print(\"Base-2 logarithm:\", np.log2(array1))\n",
        "print(\"Exponential:\", np.exp(array1))\n"
      ],
      "metadata": {
        "colab": {
          "base_uri": "https://localhost:8080/"
        },
        "id": "rXMUqjAknVGM",
        "outputId": "42fb0041-ad2b-4d37-fd08-5609f1484576"
      },
      "execution_count": 6,
      "outputs": [
        {
          "output_type": "stream",
          "name": "stdout",
          "text": [
            "array2 multiplied by array1: [ 4 10 18]\n",
            "array2 divided by array1: [4.  2.5 2. ]\n",
            "array2 raised to the power of array1: [  4  25 216]\n",
            "Sine: [0.84147098 0.90929743 0.14112001]\n",
            "Natural logarithm: [0.         0.69314718 1.09861229]\n",
            "Base-10 logarithm: [0.         0.30103    0.47712125]\n",
            "Base-2 logarithm: [0.        1.        1.5849625]\n",
            "Exponential: [ 2.71828183  7.3890561  20.08553692]\n"
          ]
        }
      ]
    },
    {
      "cell_type": "code",
      "source": [
        "import numpy as np\n",
        "array1 = np.array([1, 2, 3])\n",
        "array2 = np.array([3, 2, 1])\n",
        "print(\"array2 multiplied by array1:\", array1 * array2)\n",
        "print(\"array2 divided by array1:\", array2 / array1)\n",
        "print(\"array2 raised to the power of array1:\", array2 ** array1)\n",
        "print(\"Sine:\", np.sin(array1))\n",
        "print(\"Natural logarithm:\", np.log(array1))\n",
        "print(\"Base-10 logarithm:\", np.log10(array1))\n",
        "print(\"Base-2 logarithm:\", np.log2(array1))\n",
        "print(\"Exponential:\", np.exp(array1))\n"
      ],
      "metadata": {
        "colab": {
          "base_uri": "https://localhost:8080/"
        },
        "id": "8hGJOQRUnw2w",
        "outputId": "0b097128-7f8c-467b-c7b3-8e6146473cef"
      },
      "execution_count": 7,
      "outputs": [
        {
          "output_type": "stream",
          "name": "stdout",
          "text": [
            "array2 multiplied by array1: [3 4 3]\n",
            "array2 divided by array1: [3.         1.         0.33333333]\n",
            "array2 raised to the power of array1: [3 4 1]\n",
            "Sine: [0.84147098 0.90929743 0.14112001]\n",
            "Natural logarithm: [0.         0.69314718 1.09861229]\n",
            "Base-10 logarithm: [0.         0.30103    0.47712125]\n",
            "Base-2 logarithm: [0.        1.        1.5849625]\n",
            "Exponential: [ 2.71828183  7.3890561  20.08553692]\n"
          ]
        }
      ]
    },
    {
      "cell_type": "code",
      "source": [
        "import numpy as np\n",
        "array1 = np.array([1, 2, 3])\n",
        "array2 = np.array([3, 2, 1])\n",
        "print(f\"Adding two numpy arrays {array1} and {array2} together:\", array1 + array2)\n",
        "print(\"array2 multiplied by array1:\", array1 * array2)\n",
        "print(\"array2 divided by array1:\", array2 / array1)\n",
        "print(\"array2 raised to the power of array1:\", array2 ** array1)\n",
        "print(\"Sine:\", np.sin(array1))\n",
        "print(\"Natural logarithm:\", np.log(array1))\n",
        "print(\"Base-10 logarithm:\", np.log10(array1))\n",
        "print(\"Base-2 logarithm:\", np.log2(array1))\n",
        "print(\"Exponential:\", np.exp(array1))"
      ],
      "metadata": {
        "colab": {
          "base_uri": "https://localhost:8080/"
        },
        "id": "08CFpmPSoiV3",
        "outputId": "c8ed9747-3002-45d4-9078-eb99a6ee7782"
      },
      "execution_count": 8,
      "outputs": [
        {
          "output_type": "stream",
          "name": "stdout",
          "text": [
            "Adding two numpy arrays [1 2 3] and [3 2 1] together: [4 4 4]\n",
            "array2 multiplied by array1: [3 4 3]\n",
            "array2 divided by array1: [3.         1.         0.33333333]\n",
            "array2 raised to the power of array1: [3 4 1]\n",
            "Sine: [0.84147098 0.90929743 0.14112001]\n",
            "Natural logarithm: [0.         0.69314718 1.09861229]\n",
            "Base-10 logarithm: [0.         0.30103    0.47712125]\n",
            "Base-2 logarithm: [0.        1.        1.5849625]\n",
            "Exponential: [ 2.71828183  7.3890561  20.08553692]\n"
          ]
        }
      ]
    },
    {
      "cell_type": "markdown",
      "source": [],
      "metadata": {
        "id": "tBFPTwlTkjUr"
      }
    }
  ]
}